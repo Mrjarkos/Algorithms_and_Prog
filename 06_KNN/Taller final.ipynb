{
 "cells": [
  {
   "cell_type": "markdown",
   "id": "2bc3fe54",
   "metadata": {},
   "source": [
    "## Taller Final\n",
    "### Algoritmos y Programación\n",
    "Javier Alexis Cárdenas Bohorquez"
   ]
  },
  {
   "cell_type": "markdown",
   "id": "f252a1bc",
   "metadata": {},
   "source": [
    "## 1) Investigue en qué consiste la complejidad O($2^n$) e implemente un ejemplo en python. Diga qué posibilidades existen para reducir este tipo de complejidad."
   ]
  },
  {
   "cell_type": "markdown",
   "id": "58b9bdd0",
   "metadata": {},
   "source": [
    "La complejidad exponencial con base en 2 $(O(2^n))$ indica que el tiempo de ejecución o la memoria necesarias para un algoritmo crece en potencias de 2. La complejidad exponencial $O(2^n)$ se ilustra en problemas de **fuerza bruta**, por ejemplo, crear **combinaciones** o **secuencias** con grupos binarios.\n",
    "\n",
    "Algunos de los ejemplos más comunes son:\n",
    "\n",
    "* **Subconjuntos de un conjunto:**\n",
    "\n",
    "    * Dado un conjunto con $n$ elementos, la cantidad de subconjuntos posibles es $2^n$, ya que cada elemento puede estar presente o ausente en cada subconjunto.\n",
    "     * Por ejemplo, si tenemos un conjunto {A, B, C}, los subconjuntos posibles son: {}, {A}, {B}, {C}, {A, B}, {A, C}, {B, C}, {A, B, C}.\n",
    "    * La generación de todos los subconjuntos tiene una complejidad exponencial.\n",
    "\n",
    "* **Generación de secuencias de bits:**\n",
    "\n",
    "    * De la misma manera con los subconjuntos, si necesitamos generar todas las secuencias binarias de longitud n, donde cada bit puede ser $0$ o $1$, tendremos $2^n$ secuencias posibles\n",
    "    * Por ejemplo, para $n = 3$, las secuencias posibles son: {000}, {001}, {010}, {011}, {100}, {101}, {110}, {111}.\n",
    "    * Una aplicación podría ser para la generación de secuencias de ADN, que, si bien consiste de 4 bases (T, A, G, C), siempre se agrupan en pares. Dichos enlaces podrían verse representados por valores de 1 o 0.\n",
    "\n",
    "* **Problema del viajante de comercio (TSP):**\n",
    "\n",
    "    * En el TSP, se busca encontrar el recorrido más corto que visite todas las ciudades exactamente una vez y regrese al punto de partida.\n",
    "    * La solución exacta o de implica evaluar todas las permutaciones posibles de las ciudades, lo que tiene una complejidad $O(n!)$ o $O(2^n)$ si se utiliza la técnica de fuerza bruta, ya que implica visitar todas las ciudades, ya sea de \"ida\" o de \"vuelta\"\n",
    "\n",
    "\n",
    "* **Problema de la mochila (Knapsack):**\n",
    "\n",
    "    * Dado un conjunto de elementos con pesos y valores, se busca maximizar el valor total de los elementos seleccionados sin exceder una capacidad dada.\n",
    "    * La solución de fuerza bruta implica evaluar todas las combinaciones posibles de elementos, lo que tiene una complejidad O(2n).\n",
    "\n",
    "**Posibles soluciones:*\n",
    "\n",
    "* **Memoización:** Implica almacenar los resultados previamente calculados para evitar recálculos innecesarios durante la ejecución.\n",
    "* **Poda o Early Stopping:** Por ejemplo, en el problema de la mochila podriamos simplemente dejar de explorar una vez ya se ha superado el límite (ya que el peso es una magnitud que es siempre positiva)\n",
    "* **Ordenar los datos:** Va de la mano con el early stopping. Si los datos están ordenados, podemos determinar desde qué punto ya la solución no cumple con los requerimientos y descartarla. Hacer esto si los datos no están ordenados, puede llevar más tiempo al buscarlos.\n",
    "* **Programación Dinámica:** Metodologías como la recursividad permitirían explorar el sistema de forma más eficiente."
   ]
  },
  {
   "cell_type": "markdown",
   "id": "69c5087b",
   "metadata": {},
   "source": [
    "## 2) Investigue qué es el Overfitting, Underfitting y Regularización.  ¿Qué formas existen en Python para mejorar esos aspectos ?"
   ]
  },
  {
   "cell_type": "markdown",
   "id": "ea5278a3",
   "metadata": {},
   "source": [
    "### **Sobreajuste (Overfitting)**:\n",
    "   * El sobreajuste ocurre cuando un modelo se ajusta muy bien (demasiado bien) a los datos de entrenamiento, pero no opera bien en los datos no vistos o de prueba. Esto sucede porque el sistema captura el ruido o detalles irrelevantes.\n",
    "   * También se dice que el modelo tiene alta varianza.\n",
    "   * La Aanalogía más sencilla es la del estudiante que se aprende las preguntas de un cuestionario sin entender realmente los conceptos. Si las preguntas son iguales o suficientemente similares, el estudiante parecerá que aprende, sin embargo, no es capaz de **Generalizar**. Ahí está la clave: lo que se quiere de los modelos es que generalicen, por lo tanto el overfitting es un comportamiento indeseado.\n",
    "   \n",
    "**Causas**:\n",
    "* Modelos demasiado complejos: demasiadas características respecto a los datos de entrenamiento\n",
    "* Pocos datos de entrenamiento o poca variedad (calidad) en los datos: Si los datos tienen muchos datos repetidos y carece de una distribución uniforme, es posible que en las regiones donde haya menos datos le sea más dificil generalizar.\n",
    "* Características irrelevantes (sin correlación o causalidad), redundantes o no linealmente independientes. \n",
    "\n",
    "**Soluciones**:\n",
    "* **Regularización**: Introduce términos adicionales en la función de pérdida para penalizar los coeficientes grandes.\n",
    "* **Validación cruzada**: Evalúa el modelo en múltiples divisiones de datos para detectar sobreajuste.\n",
    "* **Reducción de la complejidad del modelo**: Usa menos características.\n",
    "* **Pruning**: Va ligado a la reducción de la complejidad del modelo. Implica estudiar las características que el algoritmo está utilizando para sintonizar el modelo y eliminar aquellas a las que les da mayor importancia. Se pueden utilizar criterios como la entropía de la información o medidas estadísticas como la correlación para determinar qué es irrelevante para el modelo.\n",
    "* **Early Stopping**: Si se sobreentrena, es más probable que el modelo se ajuste demasiado. Un método para evitar esto es monitorear hasta qué punto el entrenamiento evidencia que el modelo no está mejorando en su aprendizaje.\n",
    "* **Normalizacion de los pesos**: Bien sea normalizar por capas o por grupos, esto puede ayudar a que los pesos no crezcan demasiado y las funciones de activación no se saturen.\n",
    "* **Mejorar los datos**: Métodos como el *Data Augmentation* podrían ayudar, ya que le agrega variedad en los datos. Así mismo balancear el dataset.\n",
    "\n",
    "### **Subajuste (Underfitting)**:\n",
    "* El subajuste ocurre cuando un modelo es demasiado simple para capturar la relación subyacente en los datos.\n",
    "* También se dice que el modelo tiene alto *bias*.\n",
    "* El rendimiento en los datos de entrenamiento y prueba es deficiente.   \n",
    "\n",
    "**Causas**:\n",
    "* Modelos demasiado simples: Pocas características o características netamente lineales para dinámicas no lineales.\n",
    "* Falta de datos/Falta de entrenamiento.\n",
    "* Arquitectura no adecuada para el problema: Por ejemplo si se quiere resolver un sistema que requiere procesamiento de series de tiempo con características estáticas. En el caso de las funciones de activación, sería como resolver un problema de regresión, con funciones para clasificación.\n",
    "\n",
    "**Soluciones**:\n",
    "* **Aumento de características**: Agrega más características relevantes al modelo. \n",
    "    * Por ejemplo, si es un problema dinámico que requiere la posición, se puede mejorar el sistema si se calcula su derivada (velocidad).\n",
    "    * Así mismo, si se tiene idea de las dinámicas del sistema (por ejemplo, el uso de patrones sinusoidales), se podrían aplicar transformaciones a las características que correspondan a esos patrones.\n",
    "        * Modelar una función de la forma $Asin(B*x+C)$ en vez de forma polinomial $Ax^2+Bx+C$\n",
    "* **Aumento de la complejidad del modelo**: Usa modelos más complejos (más capas, más parámetros, diferentes arquitecturas, etc).\n",
    "* **Aumento de datos**: Recopila más datos de entrenamiento.\n",
    "* **Normalizacion de los datos**: Esto ayuda a que los pesos \n",
    "* **Sintonización de hiperparámetros**: Si el learning rate es muy alto, es posible que pase de largo al tratar de encontrar los mínimos. Por otro lado, si es muy bajo, es posible que se quede atrapaod en un mínimo local. Soluciones a esto puede ser el de cambiar adaptativamente el learning rate o utilizar otras técnicas como grid search para minimizar la función de pérdida\n",
    "* **Cambio de coordenadas o representación del estado**: Algunos sistemas aparéntemente son muy complejos, pero si se realiza un cambio del sistema de referencia, se simplifica. Por ejemplo, cambiar de coordenadas cartesianas a polares. Así mismo, analizar un sistema en frecuencia (Laplace) podría dar mayor información que a señales en el tiempo.\n",
    "* **Ajustar la función de costo**: De pronto las medidas con las que se evalúa y optimiza el modelo no son adecuadas.\n",
    "    * Se pueden adicionar parámetros (optimización multi-objetivo) a la función de costo que ayuden a determinar el comportamiento deseado del sistema. Por ejemplo, en el caso de un controlador PID, no basta sólo con minimizar el error, sino que se busca también tener en cuenta el error en estado estacionario o el sobrepaso máximo. \n",
    "    * Para sistemas dinámicos, se podría utilizar funciones diferenciales para representar el comportamiento dinámico del sistema. Este enfoque se denomina Physics-Informed Neural Networks.\n",
    "\n",
    "### **Regularización**:\n",
    "* La regularización es una técnica para evitar el sobreajuste al penalizar los coeficientes grandes.\n",
    "* Implica adicionar un parámetro a la función de pérdida para tratar de que las características del sistema no crezcan demasiado.\n",
    "* Dos tipos comunes de regularización son:\n",
    "    * **L1 (Lasso)**: Agrega la suma de los valores absolutos de los coeficientes a la función de pérdida.\n",
    "    * **L2 (Ridge)**: Agrega la suma de los cuadrados de los coeficientes a la función de pérdida.\n",
    "* En python se puede aplicar la regularización de muchas formas:\n",
    "    * Librerías como scikit-learn, pytorch o Tensorflow ya lo tienen incorporado.\n",
    "    * Así mismo se pueden implementar manualmente utilizando librerias como Scipy y Numpy"
   ]
  },
  {
   "cell_type": "markdown",
   "id": "85e63be9",
   "metadata": {},
   "source": [
    "## 3) Describa el algoritmo Support Vector Machine (SVM) e implemente su versión en python. Qué ventajas o diferencias existen con respecto al KNN, a la regresion lineal o al perceptron multicapa?"
   ]
  },
  {
   "cell_type": "markdown",
   "id": "bb3efc00",
   "metadata": {},
   "source": [
    "### **Support Vector Machine (SVM)**\n",
    "* Es un algoritmo de aprendizaje supervisado utilizado para clasificación y regresión.\n",
    "* Su funcionamiento se basa en aumentar la dimensionalidad de los datos (hiperplano óptimo en un espacio N-dimensional), de manera que se pueda separar linealmente los datos en diferentes clases.\n",
    "**Hiperplano**: \n",
    "* El hiperplano se elige para maximizar el margen, que es la distancia entre el hiperplano y los puntos de datos más cercanos (vectores de soporte) de cada clase. \n",
    "* Para ello hace uso de funciones Kernel, las cuales buscan para transformar el espacio de entrada de baja dimensión a una dimensión superior.\n",
    "* Normalmente se pueden utilizar funciones de base radial (RBF), la cual es una función de similitud que mide la distancia entre dos puntos en un espacio de características.\n",
    "- **Ventajas**:\n",
    "    - Efectivo en espacios de alta dimensionalidad.\n",
    "    - Robusto al sobreajuste.\n",
    "    - Opciones versátiles de kernel.\n",
    "    - Optimización global.\n",
    "    - Capacidad para manejar datos no lineales.\n",
    "- **Desventajas**:\n",
    "    - Complejidad computacional.\n",
    "    - Uso intensivo de memoria.\n",
    "    - Sensible a datos ruidosos.\n",
    "    - Elección hyperparámetros como el kernel."
   ]
  },
  {
   "cell_type": "markdown",
   "id": "abd3625a",
   "metadata": {},
   "source": [
    "#### Implementación en Python"
   ]
  },
  {
   "cell_type": "code",
   "execution_count": 1,
   "id": "59e9213a",
   "metadata": {},
   "outputs": [
    {
     "name": "stdout",
     "output_type": "stream",
     "text": [
      "Precisión del SVM: 1.00\n"
     ]
    }
   ],
   "source": [
    "import numpy as np\n",
    "from sklearn import datasets\n",
    "from sklearn.model_selection import train_test_split\n",
    "from sklearn.svm import SVC\n",
    "from sklearn.metrics import accuracy_score\n",
    "\n",
    "iris = datasets.load_iris()\n",
    "X = iris.data\n",
    "y = iris.target\n",
    "\n",
    "X_train, X_test, y_train, y_test = train_test_split(X, y, test_size=0.2, random_state=42)\n",
    "\n",
    "clf = SVC(kernel='linear')\n",
    "clf.fit(X_train, y_train)\n",
    "\n",
    "y_pred = clf.predict(X_test)\n",
    "\n",
    "accuracy = accuracy_score(y_test, y_pred)\n",
    "print(f\"Precisión del SVM: {accuracy:.2f}\")"
   ]
  },
  {
   "cell_type": "markdown",
   "id": "8adbfd95",
   "metadata": {},
   "source": [
    "### Comparación con otros algoritmos\n",
    "\n",
    "**KNN (K Nearest Neighbours)**:\n",
    "* KNN se basa en la similitud entre puntos de datos cercanos.\n",
    "* SVM busca un hiperplano óptimo.\n",
    "* KNN es más simple pero puede ser costoso en términos de tiempo de búsqueda, ya que la complejidad algorítmica en el entrenamiento aumenta considerablemente conforme se tengan más datos.\n",
    "\n",
    "**Regresión Lineal**:\n",
    "* La regresión lineal busca una relación lineal entre variables.\n",
    "* SVM es más flexible y puede manejar relaciones no lineales.\n",
    "\n",
    "**Perceptrón Multicapa (MLP)**:\n",
    "* MLP es una red neuronal profunda, que puede modelar sistemas más complejos. Requiere muchos más datos y es más compleja de entrenar.\n",
    "* SVM es más simple y eficiente en espacios de alta dimensión.\n",
    "\n",
    "La elección de qué algoritmo utilizar depende de las necesidades del problema. Si se tienen restricciones computacionales o qué tantos datos se necesitan utilizar."
   ]
  },
  {
   "cell_type": "markdown",
   "id": "5c1b1b39",
   "metadata": {},
   "source": [
    "## 4) Describa el algoritmo Decision Tree e Implementelo en python utilizando el dataset Iris de scikit learn"
   ]
  },
  {
   "cell_type": "markdown",
   "id": "b3d30a76",
   "metadata": {},
   "source": [
    "* Busca representar un modelo como un árbol mediante dividir los datos a traves de decisiones (normalmente de tipo binarias). Similar a un if-else anidado.\n",
    "* Se puede utilizar en problemas de regresión, como de clasificación.\n",
    "* El criterio para la división de los datos (creación de subconjuntos) puede ser la ganancia de la información o la impureza de Gini. Voy a explicar sólo la ganancia de información:\n",
    "    * Por ejemplo, si tengo que adivinar un número del 1 al 100 y puedo hacer preguntas binarias (respuestas de si o no). Puedo simplemente preguntar uno a uno e ir descartando un valor a la vez.\n",
    "    * Sin embargo, un enfoque que maximizaría la información ganada en cada pregunta sería preguntar si el número es mayor a un número $n$, en donde $n$ correspondería a la mitad del conjunto. En este caso, en cada pregunta estaría descartando la mitad de los datos.\n",
    "* La construcción continúa hasta que se cumple un criterio de parada (por ejemplo, profundidad máxima o número mínimo de puntos en un nodo).\n",
    "\n",
    "**Ventajas**:\n",
    "* Fácil de entender y visualizar.\n",
    "* Puede manejar datos categóricos y numéricos.\n",
    "* No requiere normalización de características.\n",
    "* Puede capturar relaciones no lineales.\n",
    "\n",
    "**Desventajas**:\n",
    "* Propenso al sobreajuste (puede crear árboles demasiado complejos).\n",
    "* Sensible a pequeñas variaciones en los datos.\n",
    "* No siempre produce la mejor solución global.\n",
    "\n",
    "Nota: Una mejora de este algoritmo, es el **Random Forest**, el cual combina múltiples árboles de decisión para reducir la varianza y mejorar la precisión."
   ]
  },
  {
   "cell_type": "code",
   "execution_count": 2,
   "id": "d5ea1580",
   "metadata": {},
   "outputs": [
    {
     "name": "stdout",
     "output_type": "stream",
     "text": [
      "Precisión del árbol de decisión: 1.00\n"
     ]
    }
   ],
   "source": [
    "import pandas as pd\n",
    "from sklearn.tree import DecisionTreeClassifier\n",
    "\n",
    "clf = DecisionTreeClassifier()\n",
    "clf.fit(X_train, y_train)\n",
    "\n",
    "y_pred = clf.predict(X_test)\n",
    "\n",
    "accuracy = accuracy_score(y_test, y_pred)\n",
    "print(f\"Precisión del árbol de decisión: {accuracy:.2f}\")"
   ]
  },
  {
   "cell_type": "markdown",
   "id": "c0fed199",
   "metadata": {},
   "source": [
    "## 5) Con el iris-dataset implemente los algoritmos Perceptron, Adaline, Logit Regression y Decision Tree. Compare su rendimiento para diferentes valores de hiperparámetros (n, depth, num_iters, etc)."
   ]
  },
  {
   "cell_type": "markdown",
   "id": "567c53b7",
   "metadata": {},
   "source": [
    "## 1. Perceptron"
   ]
  },
  {
   "cell_type": "code",
   "execution_count": 3,
   "id": "61a4fb40",
   "metadata": {},
   "outputs": [],
   "source": [
    "from sklearn.linear_model import Perceptron\n",
    "clf_perceptron = Perceptron(max_iter=100, eta0=0.1, random_state=42)"
   ]
  },
  {
   "cell_type": "code",
   "execution_count": 4,
   "id": "db3f0988",
   "metadata": {},
   "outputs": [
    {
     "name": "stdout",
     "output_type": "stream",
     "text": [
      "CPU times: total: 0 ns\n",
      "Wall time: 2 ms\n"
     ]
    },
    {
     "data": {
      "text/html": [
       "<style>#sk-container-id-1 {color: black;}#sk-container-id-1 pre{padding: 0;}#sk-container-id-1 div.sk-toggleable {background-color: white;}#sk-container-id-1 label.sk-toggleable__label {cursor: pointer;display: block;width: 100%;margin-bottom: 0;padding: 0.3em;box-sizing: border-box;text-align: center;}#sk-container-id-1 label.sk-toggleable__label-arrow:before {content: \"▸\";float: left;margin-right: 0.25em;color: #696969;}#sk-container-id-1 label.sk-toggleable__label-arrow:hover:before {color: black;}#sk-container-id-1 div.sk-estimator:hover label.sk-toggleable__label-arrow:before {color: black;}#sk-container-id-1 div.sk-toggleable__content {max-height: 0;max-width: 0;overflow: hidden;text-align: left;background-color: #f0f8ff;}#sk-container-id-1 div.sk-toggleable__content pre {margin: 0.2em;color: black;border-radius: 0.25em;background-color: #f0f8ff;}#sk-container-id-1 input.sk-toggleable__control:checked~div.sk-toggleable__content {max-height: 200px;max-width: 100%;overflow: auto;}#sk-container-id-1 input.sk-toggleable__control:checked~label.sk-toggleable__label-arrow:before {content: \"▾\";}#sk-container-id-1 div.sk-estimator input.sk-toggleable__control:checked~label.sk-toggleable__label {background-color: #d4ebff;}#sk-container-id-1 div.sk-label input.sk-toggleable__control:checked~label.sk-toggleable__label {background-color: #d4ebff;}#sk-container-id-1 input.sk-hidden--visually {border: 0;clip: rect(1px 1px 1px 1px);clip: rect(1px, 1px, 1px, 1px);height: 1px;margin: -1px;overflow: hidden;padding: 0;position: absolute;width: 1px;}#sk-container-id-1 div.sk-estimator {font-family: monospace;background-color: #f0f8ff;border: 1px dotted black;border-radius: 0.25em;box-sizing: border-box;margin-bottom: 0.5em;}#sk-container-id-1 div.sk-estimator:hover {background-color: #d4ebff;}#sk-container-id-1 div.sk-parallel-item::after {content: \"\";width: 100%;border-bottom: 1px solid gray;flex-grow: 1;}#sk-container-id-1 div.sk-label:hover label.sk-toggleable__label {background-color: #d4ebff;}#sk-container-id-1 div.sk-serial::before {content: \"\";position: absolute;border-left: 1px solid gray;box-sizing: border-box;top: 0;bottom: 0;left: 50%;z-index: 0;}#sk-container-id-1 div.sk-serial {display: flex;flex-direction: column;align-items: center;background-color: white;padding-right: 0.2em;padding-left: 0.2em;position: relative;}#sk-container-id-1 div.sk-item {position: relative;z-index: 1;}#sk-container-id-1 div.sk-parallel {display: flex;align-items: stretch;justify-content: center;background-color: white;position: relative;}#sk-container-id-1 div.sk-item::before, #sk-container-id-1 div.sk-parallel-item::before {content: \"\";position: absolute;border-left: 1px solid gray;box-sizing: border-box;top: 0;bottom: 0;left: 50%;z-index: -1;}#sk-container-id-1 div.sk-parallel-item {display: flex;flex-direction: column;z-index: 1;position: relative;background-color: white;}#sk-container-id-1 div.sk-parallel-item:first-child::after {align-self: flex-end;width: 50%;}#sk-container-id-1 div.sk-parallel-item:last-child::after {align-self: flex-start;width: 50%;}#sk-container-id-1 div.sk-parallel-item:only-child::after {width: 0;}#sk-container-id-1 div.sk-dashed-wrapped {border: 1px dashed gray;margin: 0 0.4em 0.5em 0.4em;box-sizing: border-box;padding-bottom: 0.4em;background-color: white;}#sk-container-id-1 div.sk-label label {font-family: monospace;font-weight: bold;display: inline-block;line-height: 1.2em;}#sk-container-id-1 div.sk-label-container {text-align: center;}#sk-container-id-1 div.sk-container {/* jupyter's `normalize.less` sets `[hidden] { display: none; }` but bootstrap.min.css set `[hidden] { display: none !important; }` so we also need the `!important` here to be able to override the default hidden behavior on the sphinx rendered scikit-learn.org. See: https://github.com/scikit-learn/scikit-learn/issues/21755 */display: inline-block !important;position: relative;}#sk-container-id-1 div.sk-text-repr-fallback {display: none;}</style><div id=\"sk-container-id-1\" class=\"sk-top-container\"><div class=\"sk-text-repr-fallback\"><pre>Perceptron(eta0=0.1, max_iter=100, random_state=42)</pre><b>In a Jupyter environment, please rerun this cell to show the HTML representation or trust the notebook. <br />On GitHub, the HTML representation is unable to render, please try loading this page with nbviewer.org.</b></div><div class=\"sk-container\" hidden><div class=\"sk-item\"><div class=\"sk-estimator sk-toggleable\"><input class=\"sk-toggleable__control sk-hidden--visually\" id=\"sk-estimator-id-1\" type=\"checkbox\" checked><label for=\"sk-estimator-id-1\" class=\"sk-toggleable__label sk-toggleable__label-arrow\">Perceptron</label><div class=\"sk-toggleable__content\"><pre>Perceptron(eta0=0.1, max_iter=100, random_state=42)</pre></div></div></div></div></div>"
      ],
      "text/plain": [
       "Perceptron(eta0=0.1, max_iter=100, random_state=42)"
      ]
     },
     "execution_count": 4,
     "metadata": {},
     "output_type": "execute_result"
    }
   ],
   "source": [
    "%%time\n",
    "clf_perceptron.fit(X_train, y_train)"
   ]
  },
  {
   "cell_type": "code",
   "execution_count": 5,
   "id": "f2c32097",
   "metadata": {},
   "outputs": [
    {
     "name": "stdout",
     "output_type": "stream",
     "text": [
      "CPU times: total: 0 ns\n",
      "Wall time: 15 ms\n"
     ]
    }
   ],
   "source": [
    "%%time\n",
    "y_pred_perceptron = clf_perceptron.predict(X_test)"
   ]
  },
  {
   "cell_type": "code",
   "execution_count": 6,
   "id": "d37433e7",
   "metadata": {},
   "outputs": [
    {
     "name": "stdout",
     "output_type": "stream",
     "text": [
      "Precisión del Perceptron: 0.63\n"
     ]
    }
   ],
   "source": [
    "accuracy_perceptron = accuracy_score(y_test, y_pred_perceptron)\n",
    "print(f\"Precisión del Perceptron: {accuracy_perceptron:.2f}\")"
   ]
  },
  {
   "cell_type": "markdown",
   "id": "d0e6473b",
   "metadata": {},
   "source": [
    "##### Grid search"
   ]
  },
  {
   "cell_type": "code",
   "execution_count": 7,
   "id": "73507767",
   "metadata": {
    "scrolled": true
   },
   "outputs": [
    {
     "name": "stderr",
     "output_type": "stream",
     "text": [
      "C:\\ProgramData\\anaconda3\\Lib\\site-packages\\sklearn\\linear_model\\_stochastic_gradient.py:713: ConvergenceWarning: Maximum number of iteration reached before convergence. Consider increasing max_iter to improve the fit.\n",
      "  warnings.warn(\n",
      "C:\\ProgramData\\anaconda3\\Lib\\site-packages\\sklearn\\linear_model\\_stochastic_gradient.py:713: ConvergenceWarning: Maximum number of iteration reached before convergence. Consider increasing max_iter to improve the fit.\n",
      "  warnings.warn(\n",
      "C:\\ProgramData\\anaconda3\\Lib\\site-packages\\sklearn\\linear_model\\_stochastic_gradient.py:713: ConvergenceWarning: Maximum number of iteration reached before convergence. Consider increasing max_iter to improve the fit.\n",
      "  warnings.warn(\n",
      "C:\\ProgramData\\anaconda3\\Lib\\site-packages\\sklearn\\linear_model\\_stochastic_gradient.py:713: ConvergenceWarning: Maximum number of iteration reached before convergence. Consider increasing max_iter to improve the fit.\n",
      "  warnings.warn(\n",
      "C:\\ProgramData\\anaconda3\\Lib\\site-packages\\sklearn\\linear_model\\_stochastic_gradient.py:713: ConvergenceWarning: Maximum number of iteration reached before convergence. Consider increasing max_iter to improve the fit.\n",
      "  warnings.warn(\n",
      "C:\\ProgramData\\anaconda3\\Lib\\site-packages\\sklearn\\linear_model\\_stochastic_gradient.py:713: ConvergenceWarning: Maximum number of iteration reached before convergence. Consider increasing max_iter to improve the fit.\n",
      "  warnings.warn(\n",
      "C:\\ProgramData\\anaconda3\\Lib\\site-packages\\sklearn\\linear_model\\_stochastic_gradient.py:713: ConvergenceWarning: Maximum number of iteration reached before convergence. Consider increasing max_iter to improve the fit.\n",
      "  warnings.warn(\n"
     ]
    }
   ],
   "source": [
    "acc_perceptron = []\n",
    "max_iters = [10, 20, 50, 75, 100, 250, 500, 1000,10000]\n",
    "etas = [1, 0.9, 0.75, 0.5, 0.25, 0.1, 0.01, 0.001, 0.0001]\n",
    "for max_iter in max_iters:\n",
    "    for eta in etas:\n",
    "        clf_perceptron = Perceptron(max_iter=max_iter, eta0=eta, random_state=42)\n",
    "        clf_perceptron.fit(X_train, y_train)\n",
    "        y_pred_perceptron = clf_perceptron.predict(X_test)\n",
    "        accuracy_perceptron = accuracy_score(y_test, y_pred_perceptron)\n",
    "        acc_perceptron.append(\n",
    "            {\n",
    "                \"eta\":eta,\n",
    "                \"max_iter\":max_iter,\n",
    "                \"accuracy\": accuracy_perceptron\n",
    "            }\n",
    "        )"
   ]
  },
  {
   "cell_type": "markdown",
   "id": "c2a1b346",
   "metadata": {},
   "source": [
    "##### Heatmap"
   ]
  },
  {
   "cell_type": "code",
   "execution_count": 8,
   "id": "8d3f8c78",
   "metadata": {},
   "outputs": [],
   "source": [
    "import seaborn as sns\n",
    "from numpy import unravel_index"
   ]
  },
  {
   "cell_type": "code",
   "execution_count": 9,
   "id": "f3fb1f33",
   "metadata": {},
   "outputs": [
    {
     "name": "stdout",
     "output_type": "stream",
     "text": [
      "Mejor accuracy: 0.7\n",
      "Mejor iteraciones: 1000\n",
      "Mejor eta: 1\n"
     ]
    },
    {
     "data": {
      "image/png": "[encoded data removed]",
      "text/plain": [
       "<Figure size 640x480 with 2 Axes>"
      ]
     },
     "metadata": {},
     "output_type": "display_data"
    }
   ],
   "source": [
    "data = np.zeros((len(max_iters), len(etas)))\n",
    "\n",
    "for p in acc_perceptron:\n",
    "    i = max_iters.index(p[\"max_iter\"])\n",
    "    j = etas.index(p[\"eta\"])\n",
    "    data[i, j] = p[\"accuracy\"]\n",
    "    \n",
    "ax = sns.heatmap(data, annot=False, yticklabels=etas, xticklabels=max_iters, linewidth=0.5)\n",
    "ax.set_xlabel(\"max_iters\")\n",
    "ax.set_ylabel(\"eta\")\n",
    "\n",
    "best_acc = np.max(data)\n",
    "i1, i0 = unravel_index(data.argmax(), data.shape)\n",
    "print(f\"Mejor accuracy: {best_acc}\\nMejor iteraciones: {max_iters[i0]}\\nMejor eta: {etas[i1]}\")"
   ]
  },
  {
   "cell_type": "markdown",
   "id": "bd61cf4d",
   "metadata": {},
   "source": [
    "## 2. Adaline\n",
    "El Adaline (Adaptive Linear Neuron) es similar al Perceptron, pero utiliza una función de activación continua"
   ]
  },
  {
   "cell_type": "code",
   "execution_count": 10,
   "id": "ccfab7d8",
   "metadata": {},
   "outputs": [],
   "source": [
    "from sklearn.base import BaseEstimator, ClassifierMixin\n",
    "\n",
    "class Adaline(BaseEstimator, ClassifierMixin):\n",
    "    def __init__(self, learning_rate=0.01, n_iterations=50):\n",
    "        self.learning_rate = learning_rate\n",
    "        self.n_iterations = n_iterations\n",
    "\n",
    "    def fit(self, X, y):\n",
    "        self.w_ = np.zeros(1 + X.shape[1])\n",
    "        self.cost_ = []\n",
    "\n",
    "        for _ in range(self.n_iterations):\n",
    "            output = self.net_input(X)\n",
    "            errors = (y - output)\n",
    "            self.w_[1:] += self.learning_rate * X.T.dot(errors)\n",
    "            self.w_[0] += self.learning_rate * errors.sum()\n",
    "            cost = (errors**2).sum() / 2.0\n",
    "            self.cost_.append(cost)\n",
    "        return self\n",
    "\n",
    "    def net_input(self, X):\n",
    "        return np.dot(X, self.w_[1:]) + self.w_[0]\n",
    "\n",
    "    def activation(self, X):\n",
    "        return self.net_input(X)\n",
    "\n",
    "    def predict(self, X):\n",
    "        return np.where(self.activation(X) >= 0.0, 1, -1)\n",
    "    \n",
    "clf_adaline = Adaline(learning_rate=0.1, n_iterations=100)"
   ]
  },
  {
   "cell_type": "code",
   "execution_count": 11,
   "id": "c5bb4487",
   "metadata": {},
   "outputs": [
    {
     "name": "stdout",
     "output_type": "stream",
     "text": [
      "CPU times: total: 15.6 ms\n",
      "Wall time: 2.99 ms\n"
     ]
    },
    {
     "name": "stderr",
     "output_type": "stream",
     "text": [
      "C:\\Users\\mrjar\\AppData\\Local\\Temp\\ipykernel_16124\\1204144490.py:17: RuntimeWarning: overflow encountered in square\n",
      "  cost = (errors**2).sum() / 2.0\n"
     ]
    },
    {
     "data": {
      "text/html": [
       "<style>#sk-container-id-2 {color: black;}#sk-container-id-2 pre{padding: 0;}#sk-container-id-2 div.sk-toggleable {background-color: white;}#sk-container-id-2 label.sk-toggleable__label {cursor: pointer;display: block;width: 100%;margin-bottom: 0;padding: 0.3em;box-sizing: border-box;text-align: center;}#sk-container-id-2 label.sk-toggleable__label-arrow:before {content: \"▸\";float: left;margin-right: 0.25em;color: #696969;}#sk-container-id-2 label.sk-toggleable__label-arrow:hover:before {color: black;}#sk-container-id-2 div.sk-estimator:hover label.sk-toggleable__label-arrow:before {color: black;}#sk-container-id-2 div.sk-toggleable__content {max-height: 0;max-width: 0;overflow: hidden;text-align: left;background-color: #f0f8ff;}#sk-container-id-2 div.sk-toggleable__content pre {margin: 0.2em;color: black;border-radius: 0.25em;background-color: #f0f8ff;}#sk-container-id-2 input.sk-toggleable__control:checked~div.sk-toggleable__content {max-height: 200px;max-width: 100%;overflow: auto;}#sk-container-id-2 input.sk-toggleable__control:checked~label.sk-toggleable__label-arrow:before {content: \"▾\";}#sk-container-id-2 div.sk-estimator input.sk-toggleable__control:checked~label.sk-toggleable__label {background-color: #d4ebff;}#sk-container-id-2 div.sk-label input.sk-toggleable__control:checked~label.sk-toggleable__label {background-color: #d4ebff;}#sk-container-id-2 input.sk-hidden--visually {border: 0;clip: rect(1px 1px 1px 1px);clip: rect(1px, 1px, 1px, 1px);height: 1px;margin: -1px;overflow: hidden;padding: 0;position: absolute;width: 1px;}#sk-container-id-2 div.sk-estimator {font-family: monospace;background-color: #f0f8ff;border: 1px dotted black;border-radius: 0.25em;box-sizing: border-box;margin-bottom: 0.5em;}#sk-container-id-2 div.sk-estimator:hover {background-color: #d4ebff;}#sk-container-id-2 div.sk-parallel-item::after {content: \"\";width: 100%;border-bottom: 1px solid gray;flex-grow: 1;}#sk-container-id-2 div.sk-label:hover label.sk-toggleable__label {background-color: #d4ebff;}#sk-container-id-2 div.sk-serial::before {content: \"\";position: absolute;border-left: 1px solid gray;box-sizing: border-box;top: 0;bottom: 0;left: 50%;z-index: 0;}#sk-container-id-2 div.sk-serial {display: flex;flex-direction: column;align-items: center;background-color: white;padding-right: 0.2em;padding-left: 0.2em;position: relative;}#sk-container-id-2 div.sk-item {position: relative;z-index: 1;}#sk-container-id-2 div.sk-parallel {display: flex;align-items: stretch;justify-content: center;background-color: white;position: relative;}#sk-container-id-2 div.sk-item::before, #sk-container-id-2 div.sk-parallel-item::before {content: \"\";position: absolute;border-left: 1px solid gray;box-sizing: border-box;top: 0;bottom: 0;left: 50%;z-index: -1;}#sk-container-id-2 div.sk-parallel-item {display: flex;flex-direction: column;z-index: 1;position: relative;background-color: white;}#sk-container-id-2 div.sk-parallel-item:first-child::after {align-self: flex-end;width: 50%;}#sk-container-id-2 div.sk-parallel-item:last-child::after {align-self: flex-start;width: 50%;}#sk-container-id-2 div.sk-parallel-item:only-child::after {width: 0;}#sk-container-id-2 div.sk-dashed-wrapped {border: 1px dashed gray;margin: 0 0.4em 0.5em 0.4em;box-sizing: border-box;padding-bottom: 0.4em;background-color: white;}#sk-container-id-2 div.sk-label label {font-family: monospace;font-weight: bold;display: inline-block;line-height: 1.2em;}#sk-container-id-2 div.sk-label-container {text-align: center;}#sk-container-id-2 div.sk-container {/* jupyter's `normalize.less` sets `[hidden] { display: none; }` but bootstrap.min.css set `[hidden] { display: none !important; }` so we also need the `!important` here to be able to override the default hidden behavior on the sphinx rendered scikit-learn.org. See: https://github.com/scikit-learn/scikit-learn/issues/21755 */display: inline-block !important;position: relative;}#sk-container-id-2 div.sk-text-repr-fallback {display: none;}</style><div id=\"sk-container-id-2\" class=\"sk-top-container\"><div class=\"sk-text-repr-fallback\"><pre>Adaline(learning_rate=0.1, n_iterations=100)</pre><b>In a Jupyter environment, please rerun this cell to show the HTML representation or trust the notebook. <br />On GitHub, the HTML representation is unable to render, please try loading this page with nbviewer.org.</b></div><div class=\"sk-container\" hidden><div class=\"sk-item\"><div class=\"sk-estimator sk-toggleable\"><input class=\"sk-toggleable__control sk-hidden--visually\" id=\"sk-estimator-id-2\" type=\"checkbox\" checked><label for=\"sk-estimator-id-2\" class=\"sk-toggleable__label sk-toggleable__label-arrow\">Adaline</label><div class=\"sk-toggleable__content\"><pre>Adaline(learning_rate=0.1, n_iterations=100)</pre></div></div></div></div></div>"
      ],
      "text/plain": [
       "Adaline(learning_rate=0.1, n_iterations=100)"
      ]
     },
     "execution_count": 11,
     "metadata": {},
     "output_type": "execute_result"
    }
   ],
   "source": [
    "%%time\n",
    "clf_adaline.fit(X_train, y_train)"
   ]
  },
  {
   "cell_type": "code",
   "execution_count": 12,
   "id": "a73793ec",
   "metadata": {},
   "outputs": [
    {
     "name": "stdout",
     "output_type": "stream",
     "text": [
      "CPU times: total: 0 ns\n",
      "Wall time: 0 ns\n"
     ]
    }
   ],
   "source": [
    "%%time\n",
    "y_pred_adaline = clf_adaline.predict(X_test)"
   ]
  },
  {
   "cell_type": "code",
   "execution_count": 13,
   "id": "71c523fc",
   "metadata": {},
   "outputs": [
    {
     "name": "stdout",
     "output_type": "stream",
     "text": [
      "Precisión de Adaline: 0.00\n",
      "CPU times: total: 0 ns\n",
      "Wall time: 1 ms\n"
     ]
    }
   ],
   "source": [
    "%%time\n",
    "accuracy_adaline = accuracy_score(y_test, y_pred_adaline)\n",
    "print(f\"Precisión de Adaline: {accuracy_adaline:.2f}\")"
   ]
  },
  {
   "cell_type": "markdown",
   "id": "1f8733eb",
   "metadata": {},
   "source": [
    "##### Grid search"
   ]
  },
  {
   "cell_type": "code",
   "execution_count": 14,
   "id": "bd61df00",
   "metadata": {
    "scrolled": true
   },
   "outputs": [
    {
     "name": "stderr",
     "output_type": "stream",
     "text": [
      "C:\\Users\\mrjar\\AppData\\Local\\Temp\\ipykernel_16124\\1204144490.py:17: RuntimeWarning: overflow encountered in square\n",
      "  cost = (errors**2).sum() / 2.0\n",
      "C:\\Users\\mrjar\\AppData\\Local\\Temp\\ipykernel_16124\\1204144490.py:17: RuntimeWarning: overflow encountered in square\n",
      "  cost = (errors**2).sum() / 2.0\n",
      "C:\\ProgramData\\anaconda3\\Lib\\site-packages\\numpy\\core\\_methods.py:49: RuntimeWarning: overflow encountered in reduce\n",
      "  return umr_sum(a, axis, dtype, out, keepdims, initial, where)\n",
      "C:\\Users\\mrjar\\AppData\\Local\\Temp\\ipykernel_16124\\1204144490.py:17: RuntimeWarning: overflow encountered in square\n",
      "  cost = (errors**2).sum() / 2.0\n",
      "C:\\ProgramData\\anaconda3\\Lib\\site-packages\\numpy\\core\\_methods.py:49: RuntimeWarning: overflow encountered in reduce\n",
      "  return umr_sum(a, axis, dtype, out, keepdims, initial, where)\n",
      "C:\\Users\\mrjar\\AppData\\Local\\Temp\\ipykernel_16124\\1204144490.py:17: RuntimeWarning: overflow encountered in square\n",
      "  cost = (errors**2).sum() / 2.0\n",
      "C:\\ProgramData\\anaconda3\\Lib\\site-packages\\numpy\\core\\_methods.py:49: RuntimeWarning: overflow encountered in reduce\n",
      "  return umr_sum(a, axis, dtype, out, keepdims, initial, where)\n",
      "C:\\Users\\mrjar\\AppData\\Local\\Temp\\ipykernel_16124\\1204144490.py:17: RuntimeWarning: overflow encountered in square\n",
      "  cost = (errors**2).sum() / 2.0\n",
      "C:\\Users\\mrjar\\AppData\\Local\\Temp\\ipykernel_16124\\1204144490.py:17: RuntimeWarning: overflow encountered in square\n",
      "  cost = (errors**2).sum() / 2.0\n",
      "C:\\Users\\mrjar\\AppData\\Local\\Temp\\ipykernel_16124\\1204144490.py:17: RuntimeWarning: overflow encountered in square\n",
      "  cost = (errors**2).sum() / 2.0\n",
      "C:\\ProgramData\\anaconda3\\Lib\\site-packages\\numpy\\core\\_methods.py:49: RuntimeWarning: overflow encountered in reduce\n",
      "  return umr_sum(a, axis, dtype, out, keepdims, initial, where)\n",
      "C:\\Users\\mrjar\\AppData\\Local\\Temp\\ipykernel_16124\\1204144490.py:17: RuntimeWarning: overflow encountered in square\n",
      "  cost = (errors**2).sum() / 2.0\n",
      "C:\\ProgramData\\anaconda3\\Lib\\site-packages\\numpy\\core\\_methods.py:49: RuntimeWarning: overflow encountered in reduce\n",
      "  return umr_sum(a, axis, dtype, out, keepdims, initial, where)\n",
      "C:\\Users\\mrjar\\AppData\\Local\\Temp\\ipykernel_16124\\1204144490.py:17: RuntimeWarning: overflow encountered in square\n",
      "  cost = (errors**2).sum() / 2.0\n",
      "C:\\ProgramData\\anaconda3\\Lib\\site-packages\\numpy\\core\\_methods.py:49: RuntimeWarning: overflow encountered in reduce\n",
      "  return umr_sum(a, axis, dtype, out, keepdims, initial, where)\n",
      "C:\\Users\\mrjar\\AppData\\Local\\Temp\\ipykernel_16124\\1204144490.py:17: RuntimeWarning: overflow encountered in square\n",
      "  cost = (errors**2).sum() / 2.0\n",
      "C:\\Users\\mrjar\\AppData\\Local\\Temp\\ipykernel_16124\\1204144490.py:17: RuntimeWarning: overflow encountered in square\n",
      "  cost = (errors**2).sum() / 2.0\n",
      "C:\\Users\\mrjar\\AppData\\Local\\Temp\\ipykernel_16124\\1204144490.py:17: RuntimeWarning: overflow encountered in square\n",
      "  cost = (errors**2).sum() / 2.0\n",
      "C:\\Users\\mrjar\\AppData\\Local\\Temp\\ipykernel_16124\\1204144490.py:15: RuntimeWarning: invalid value encountered in add\n",
      "  self.w_[1:] += self.learning_rate * X.T.dot(errors)\n",
      "C:\\Users\\mrjar\\AppData\\Local\\Temp\\ipykernel_16124\\1204144490.py:17: RuntimeWarning: overflow encountered in square\n",
      "  cost = (errors**2).sum() / 2.0\n",
      "C:\\Users\\mrjar\\AppData\\Local\\Temp\\ipykernel_16124\\1204144490.py:15: RuntimeWarning: invalid value encountered in add\n",
      "  self.w_[1:] += self.learning_rate * X.T.dot(errors)\n",
      "C:\\ProgramData\\anaconda3\\Lib\\site-packages\\numpy\\core\\_methods.py:49: RuntimeWarning: overflow encountered in reduce\n",
      "  return umr_sum(a, axis, dtype, out, keepdims, initial, where)\n",
      "C:\\Users\\mrjar\\AppData\\Local\\Temp\\ipykernel_16124\\1204144490.py:17: RuntimeWarning: overflow encountered in square\n",
      "  cost = (errors**2).sum() / 2.0\n",
      "C:\\Users\\mrjar\\AppData\\Local\\Temp\\ipykernel_16124\\1204144490.py:15: RuntimeWarning: invalid value encountered in add\n",
      "  self.w_[1:] += self.learning_rate * X.T.dot(errors)\n",
      "C:\\Users\\mrjar\\AppData\\Local\\Temp\\ipykernel_16124\\1204144490.py:16: RuntimeWarning: invalid value encountered in scalar add\n",
      "  self.w_[0] += self.learning_rate * errors.sum()\n",
      "C:\\ProgramData\\anaconda3\\Lib\\site-packages\\numpy\\core\\_methods.py:49: RuntimeWarning: overflow encountered in reduce\n",
      "  return umr_sum(a, axis, dtype, out, keepdims, initial, where)\n",
      "C:\\Users\\mrjar\\AppData\\Local\\Temp\\ipykernel_16124\\1204144490.py:17: RuntimeWarning: overflow encountered in square\n",
      "  cost = (errors**2).sum() / 2.0\n",
      "C:\\Users\\mrjar\\AppData\\Local\\Temp\\ipykernel_16124\\1204144490.py:15: RuntimeWarning: invalid value encountered in add\n",
      "  self.w_[1:] += self.learning_rate * X.T.dot(errors)\n",
      "C:\\Users\\mrjar\\AppData\\Local\\Temp\\ipykernel_16124\\1204144490.py:16: RuntimeWarning: invalid value encountered in scalar add\n",
      "  self.w_[0] += self.learning_rate * errors.sum()\n",
      "C:\\ProgramData\\anaconda3\\Lib\\site-packages\\numpy\\core\\_methods.py:49: RuntimeWarning: overflow encountered in reduce\n",
      "  return umr_sum(a, axis, dtype, out, keepdims, initial, where)\n",
      "C:\\Users\\mrjar\\AppData\\Local\\Temp\\ipykernel_16124\\1204144490.py:17: RuntimeWarning: overflow encountered in square\n",
      "  cost = (errors**2).sum() / 2.0\n",
      "C:\\Users\\mrjar\\AppData\\Local\\Temp\\ipykernel_16124\\1204144490.py:15: RuntimeWarning: invalid value encountered in add\n",
      "  self.w_[1:] += self.learning_rate * X.T.dot(errors)\n",
      "C:\\Users\\mrjar\\AppData\\Local\\Temp\\ipykernel_16124\\1204144490.py:16: RuntimeWarning: invalid value encountered in scalar add\n",
      "  self.w_[0] += self.learning_rate * errors.sum()\n",
      "C:\\Users\\mrjar\\AppData\\Local\\Temp\\ipykernel_16124\\1204144490.py:17: RuntimeWarning: overflow encountered in square\n",
      "  cost = (errors**2).sum() / 2.0\n",
      "C:\\Users\\mrjar\\AppData\\Local\\Temp\\ipykernel_16124\\1204144490.py:17: RuntimeWarning: overflow encountered in square\n",
      "  cost = (errors**2).sum() / 2.0\n",
      "C:\\Users\\mrjar\\AppData\\Local\\Temp\\ipykernel_16124\\1204144490.py:17: RuntimeWarning: overflow encountered in square\n",
      "  cost = (errors**2).sum() / 2.0\n",
      "C:\\Users\\mrjar\\AppData\\Local\\Temp\\ipykernel_16124\\1204144490.py:15: RuntimeWarning: invalid value encountered in add\n",
      "  self.w_[1:] += self.learning_rate * X.T.dot(errors)\n",
      "C:\\Users\\mrjar\\AppData\\Local\\Temp\\ipykernel_16124\\1204144490.py:17: RuntimeWarning: overflow encountered in square\n",
      "  cost = (errors**2).sum() / 2.0\n",
      "C:\\Users\\mrjar\\AppData\\Local\\Temp\\ipykernel_16124\\1204144490.py:15: RuntimeWarning: invalid value encountered in add\n",
      "  self.w_[1:] += self.learning_rate * X.T.dot(errors)\n",
      "C:\\ProgramData\\anaconda3\\Lib\\site-packages\\numpy\\core\\_methods.py:49: RuntimeWarning: overflow encountered in reduce\n",
      "  return umr_sum(a, axis, dtype, out, keepdims, initial, where)\n",
      "C:\\Users\\mrjar\\AppData\\Local\\Temp\\ipykernel_16124\\1204144490.py:17: RuntimeWarning: overflow encountered in square\n",
      "  cost = (errors**2).sum() / 2.0\n",
      "C:\\Users\\mrjar\\AppData\\Local\\Temp\\ipykernel_16124\\1204144490.py:15: RuntimeWarning: invalid value encountered in add\n",
      "  self.w_[1:] += self.learning_rate * X.T.dot(errors)\n",
      "C:\\Users\\mrjar\\AppData\\Local\\Temp\\ipykernel_16124\\1204144490.py:16: RuntimeWarning: invalid value encountered in scalar add\n",
      "  self.w_[0] += self.learning_rate * errors.sum()\n",
      "C:\\ProgramData\\anaconda3\\Lib\\site-packages\\numpy\\core\\_methods.py:49: RuntimeWarning: overflow encountered in reduce\n",
      "  return umr_sum(a, axis, dtype, out, keepdims, initial, where)\n",
      "C:\\Users\\mrjar\\AppData\\Local\\Temp\\ipykernel_16124\\1204144490.py:17: RuntimeWarning: overflow encountered in square\n",
      "  cost = (errors**2).sum() / 2.0\n",
      "C:\\Users\\mrjar\\AppData\\Local\\Temp\\ipykernel_16124\\1204144490.py:15: RuntimeWarning: invalid value encountered in add\n",
      "  self.w_[1:] += self.learning_rate * X.T.dot(errors)\n",
      "C:\\Users\\mrjar\\AppData\\Local\\Temp\\ipykernel_16124\\1204144490.py:16: RuntimeWarning: invalid value encountered in scalar add\n",
      "  self.w_[0] += self.learning_rate * errors.sum()\n",
      "C:\\ProgramData\\anaconda3\\Lib\\site-packages\\numpy\\core\\_methods.py:49: RuntimeWarning: overflow encountered in reduce\n",
      "  return umr_sum(a, axis, dtype, out, keepdims, initial, where)\n",
      "C:\\Users\\mrjar\\AppData\\Local\\Temp\\ipykernel_16124\\1204144490.py:17: RuntimeWarning: overflow encountered in square\n",
      "  cost = (errors**2).sum() / 2.0\n",
      "C:\\Users\\mrjar\\AppData\\Local\\Temp\\ipykernel_16124\\1204144490.py:15: RuntimeWarning: invalid value encountered in add\n",
      "  self.w_[1:] += self.learning_rate * X.T.dot(errors)\n",
      "C:\\Users\\mrjar\\AppData\\Local\\Temp\\ipykernel_16124\\1204144490.py:16: RuntimeWarning: invalid value encountered in scalar add\n",
      "  self.w_[0] += self.learning_rate * errors.sum()\n",
      "C:\\Users\\mrjar\\AppData\\Local\\Temp\\ipykernel_16124\\1204144490.py:17: RuntimeWarning: overflow encountered in square\n",
      "  cost = (errors**2).sum() / 2.0\n",
      "C:\\ProgramData\\anaconda3\\Lib\\site-packages\\numpy\\core\\_methods.py:49: RuntimeWarning: overflow encountered in reduce\n",
      "  return umr_sum(a, axis, dtype, out, keepdims, initial, where)\n",
      "C:\\Users\\mrjar\\AppData\\Local\\Temp\\ipykernel_16124\\1204144490.py:15: RuntimeWarning: invalid value encountered in add\n",
      "  self.w_[1:] += self.learning_rate * X.T.dot(errors)\n",
      "C:\\Users\\mrjar\\AppData\\Local\\Temp\\ipykernel_16124\\1204144490.py:16: RuntimeWarning: invalid value encountered in scalar add\n",
      "  self.w_[0] += self.learning_rate * errors.sum()\n",
      "C:\\Users\\mrjar\\AppData\\Local\\Temp\\ipykernel_16124\\1204144490.py:17: RuntimeWarning: overflow encountered in square\n",
      "  cost = (errors**2).sum() / 2.0\n",
      "C:\\Users\\mrjar\\AppData\\Local\\Temp\\ipykernel_16124\\1204144490.py:15: RuntimeWarning: invalid value encountered in add\n",
      "  self.w_[1:] += self.learning_rate * X.T.dot(errors)\n",
      "C:\\ProgramData\\anaconda3\\Lib\\site-packages\\numpy\\core\\_methods.py:49: RuntimeWarning: overflow encountered in reduce\n",
      "  return umr_sum(a, axis, dtype, out, keepdims, initial, where)\n",
      "C:\\Users\\mrjar\\AppData\\Local\\Temp\\ipykernel_16124\\1204144490.py:17: RuntimeWarning: overflow encountered in square\n",
      "  cost = (errors**2).sum() / 2.0\n",
      "C:\\Users\\mrjar\\AppData\\Local\\Temp\\ipykernel_16124\\1204144490.py:17: RuntimeWarning: overflow encountered in square\n",
      "  cost = (errors**2).sum() / 2.0\n",
      "C:\\Users\\mrjar\\AppData\\Local\\Temp\\ipykernel_16124\\1204144490.py:15: RuntimeWarning: invalid value encountered in add\n",
      "  self.w_[1:] += self.learning_rate * X.T.dot(errors)\n",
      "C:\\Users\\mrjar\\AppData\\Local\\Temp\\ipykernel_16124\\1204144490.py:17: RuntimeWarning: overflow encountered in square\n",
      "  cost = (errors**2).sum() / 2.0\n",
      "C:\\Users\\mrjar\\AppData\\Local\\Temp\\ipykernel_16124\\1204144490.py:15: RuntimeWarning: invalid value encountered in add\n",
      "  self.w_[1:] += self.learning_rate * X.T.dot(errors)\n",
      "C:\\ProgramData\\anaconda3\\Lib\\site-packages\\numpy\\core\\_methods.py:49: RuntimeWarning: overflow encountered in reduce\n",
      "  return umr_sum(a, axis, dtype, out, keepdims, initial, where)\n",
      "C:\\Users\\mrjar\\AppData\\Local\\Temp\\ipykernel_16124\\1204144490.py:17: RuntimeWarning: overflow encountered in square\n",
      "  cost = (errors**2).sum() / 2.0\n",
      "C:\\Users\\mrjar\\AppData\\Local\\Temp\\ipykernel_16124\\1204144490.py:15: RuntimeWarning: invalid value encountered in add\n",
      "  self.w_[1:] += self.learning_rate * X.T.dot(errors)\n",
      "C:\\Users\\mrjar\\AppData\\Local\\Temp\\ipykernel_16124\\1204144490.py:16: RuntimeWarning: invalid value encountered in scalar add\n",
      "  self.w_[0] += self.learning_rate * errors.sum()\n",
      "C:\\ProgramData\\anaconda3\\Lib\\site-packages\\numpy\\core\\_methods.py:49: RuntimeWarning: overflow encountered in reduce\n",
      "  return umr_sum(a, axis, dtype, out, keepdims, initial, where)\n",
      "C:\\Users\\mrjar\\AppData\\Local\\Temp\\ipykernel_16124\\1204144490.py:17: RuntimeWarning: overflow encountered in square\n",
      "  cost = (errors**2).sum() / 2.0\n",
      "C:\\Users\\mrjar\\AppData\\Local\\Temp\\ipykernel_16124\\1204144490.py:15: RuntimeWarning: invalid value encountered in add\n",
      "  self.w_[1:] += self.learning_rate * X.T.dot(errors)\n",
      "C:\\Users\\mrjar\\AppData\\Local\\Temp\\ipykernel_16124\\1204144490.py:16: RuntimeWarning: invalid value encountered in scalar add\n",
      "  self.w_[0] += self.learning_rate * errors.sum()\n",
      "C:\\ProgramData\\anaconda3\\Lib\\site-packages\\numpy\\core\\_methods.py:49: RuntimeWarning: overflow encountered in reduce\n",
      "  return umr_sum(a, axis, dtype, out, keepdims, initial, where)\n",
      "C:\\Users\\mrjar\\AppData\\Local\\Temp\\ipykernel_16124\\1204144490.py:17: RuntimeWarning: overflow encountered in square\n",
      "  cost = (errors**2).sum() / 2.0\n",
      "C:\\Users\\mrjar\\AppData\\Local\\Temp\\ipykernel_16124\\1204144490.py:15: RuntimeWarning: invalid value encountered in add\n",
      "  self.w_[1:] += self.learning_rate * X.T.dot(errors)\n",
      "C:\\Users\\mrjar\\AppData\\Local\\Temp\\ipykernel_16124\\1204144490.py:16: RuntimeWarning: invalid value encountered in scalar add\n",
      "  self.w_[0] += self.learning_rate * errors.sum()\n",
      "C:\\Users\\mrjar\\AppData\\Local\\Temp\\ipykernel_16124\\1204144490.py:17: RuntimeWarning: overflow encountered in square\n",
      "  cost = (errors**2).sum() / 2.0\n",
      "C:\\ProgramData\\anaconda3\\Lib\\site-packages\\numpy\\core\\_methods.py:49: RuntimeWarning: overflow encountered in reduce\n",
      "  return umr_sum(a, axis, dtype, out, keepdims, initial, where)\n",
      "C:\\Users\\mrjar\\AppData\\Local\\Temp\\ipykernel_16124\\1204144490.py:15: RuntimeWarning: invalid value encountered in add\n",
      "  self.w_[1:] += self.learning_rate * X.T.dot(errors)\n",
      "C:\\Users\\mrjar\\AppData\\Local\\Temp\\ipykernel_16124\\1204144490.py:16: RuntimeWarning: invalid value encountered in scalar add\n",
      "  self.w_[0] += self.learning_rate * errors.sum()\n",
      "C:\\Users\\mrjar\\AppData\\Local\\Temp\\ipykernel_16124\\1204144490.py:17: RuntimeWarning: overflow encountered in square\n",
      "  cost = (errors**2).sum() / 2.0\n",
      "C:\\Users\\mrjar\\AppData\\Local\\Temp\\ipykernel_16124\\1204144490.py:15: RuntimeWarning: invalid value encountered in add\n",
      "  self.w_[1:] += self.learning_rate * X.T.dot(errors)\n",
      "C:\\ProgramData\\anaconda3\\Lib\\site-packages\\numpy\\core\\_methods.py:49: RuntimeWarning: overflow encountered in reduce\n",
      "  return umr_sum(a, axis, dtype, out, keepdims, initial, where)\n",
      "C:\\Users\\mrjar\\AppData\\Local\\Temp\\ipykernel_16124\\1204144490.py:17: RuntimeWarning: overflow encountered in square\n",
      "  cost = (errors**2).sum() / 2.0\n",
      "C:\\Users\\mrjar\\AppData\\Local\\Temp\\ipykernel_16124\\1204144490.py:15: RuntimeWarning: invalid value encountered in add\n",
      "  self.w_[1:] += self.learning_rate * X.T.dot(errors)\n",
      "C:\\Users\\mrjar\\AppData\\Local\\Temp\\ipykernel_16124\\1204144490.py:17: RuntimeWarning: overflow encountered in square\n",
      "  cost = (errors**2).sum() / 2.0\n",
      "C:\\Users\\mrjar\\AppData\\Local\\Temp\\ipykernel_16124\\1204144490.py:15: RuntimeWarning: invalid value encountered in add\n",
      "  self.w_[1:] += self.learning_rate * X.T.dot(errors)\n"
     ]
    },
    {
     "name": "stderr",
     "output_type": "stream",
     "text": [
      "C:\\Users\\mrjar\\AppData\\Local\\Temp\\ipykernel_16124\\1204144490.py:17: RuntimeWarning: overflow encountered in square\n",
      "  cost = (errors**2).sum() / 2.0\n",
      "C:\\Users\\mrjar\\AppData\\Local\\Temp\\ipykernel_16124\\1204144490.py:15: RuntimeWarning: invalid value encountered in add\n",
      "  self.w_[1:] += self.learning_rate * X.T.dot(errors)\n",
      "C:\\ProgramData\\anaconda3\\Lib\\site-packages\\numpy\\core\\_methods.py:49: RuntimeWarning: overflow encountered in reduce\n",
      "  return umr_sum(a, axis, dtype, out, keepdims, initial, where)\n",
      "C:\\Users\\mrjar\\AppData\\Local\\Temp\\ipykernel_16124\\1204144490.py:17: RuntimeWarning: overflow encountered in square\n",
      "  cost = (errors**2).sum() / 2.0\n",
      "C:\\Users\\mrjar\\AppData\\Local\\Temp\\ipykernel_16124\\1204144490.py:15: RuntimeWarning: invalid value encountered in add\n",
      "  self.w_[1:] += self.learning_rate * X.T.dot(errors)\n",
      "C:\\Users\\mrjar\\AppData\\Local\\Temp\\ipykernel_16124\\1204144490.py:16: RuntimeWarning: invalid value encountered in scalar add\n",
      "  self.w_[0] += self.learning_rate * errors.sum()\n",
      "C:\\ProgramData\\anaconda3\\Lib\\site-packages\\numpy\\core\\_methods.py:49: RuntimeWarning: overflow encountered in reduce\n",
      "  return umr_sum(a, axis, dtype, out, keepdims, initial, where)\n",
      "C:\\Users\\mrjar\\AppData\\Local\\Temp\\ipykernel_16124\\1204144490.py:17: RuntimeWarning: overflow encountered in square\n",
      "  cost = (errors**2).sum() / 2.0\n",
      "C:\\Users\\mrjar\\AppData\\Local\\Temp\\ipykernel_16124\\1204144490.py:15: RuntimeWarning: invalid value encountered in add\n",
      "  self.w_[1:] += self.learning_rate * X.T.dot(errors)\n",
      "C:\\Users\\mrjar\\AppData\\Local\\Temp\\ipykernel_16124\\1204144490.py:16: RuntimeWarning: invalid value encountered in scalar add\n",
      "  self.w_[0] += self.learning_rate * errors.sum()\n",
      "C:\\ProgramData\\anaconda3\\Lib\\site-packages\\numpy\\core\\_methods.py:49: RuntimeWarning: overflow encountered in reduce\n",
      "  return umr_sum(a, axis, dtype, out, keepdims, initial, where)\n",
      "C:\\Users\\mrjar\\AppData\\Local\\Temp\\ipykernel_16124\\1204144490.py:17: RuntimeWarning: overflow encountered in square\n",
      "  cost = (errors**2).sum() / 2.0\n",
      "C:\\Users\\mrjar\\AppData\\Local\\Temp\\ipykernel_16124\\1204144490.py:15: RuntimeWarning: invalid value encountered in add\n",
      "  self.w_[1:] += self.learning_rate * X.T.dot(errors)\n",
      "C:\\Users\\mrjar\\AppData\\Local\\Temp\\ipykernel_16124\\1204144490.py:16: RuntimeWarning: invalid value encountered in scalar add\n",
      "  self.w_[0] += self.learning_rate * errors.sum()\n",
      "C:\\Users\\mrjar\\AppData\\Local\\Temp\\ipykernel_16124\\1204144490.py:17: RuntimeWarning: overflow encountered in square\n",
      "  cost = (errors**2).sum() / 2.0\n",
      "C:\\ProgramData\\anaconda3\\Lib\\site-packages\\numpy\\core\\_methods.py:49: RuntimeWarning: overflow encountered in reduce\n",
      "  return umr_sum(a, axis, dtype, out, keepdims, initial, where)\n",
      "C:\\Users\\mrjar\\AppData\\Local\\Temp\\ipykernel_16124\\1204144490.py:15: RuntimeWarning: invalid value encountered in add\n",
      "  self.w_[1:] += self.learning_rate * X.T.dot(errors)\n",
      "C:\\Users\\mrjar\\AppData\\Local\\Temp\\ipykernel_16124\\1204144490.py:16: RuntimeWarning: invalid value encountered in scalar add\n",
      "  self.w_[0] += self.learning_rate * errors.sum()\n",
      "C:\\Users\\mrjar\\AppData\\Local\\Temp\\ipykernel_16124\\1204144490.py:17: RuntimeWarning: overflow encountered in square\n",
      "  cost = (errors**2).sum() / 2.0\n",
      "C:\\Users\\mrjar\\AppData\\Local\\Temp\\ipykernel_16124\\1204144490.py:15: RuntimeWarning: invalid value encountered in add\n",
      "  self.w_[1:] += self.learning_rate * X.T.dot(errors)\n",
      "C:\\ProgramData\\anaconda3\\Lib\\site-packages\\numpy\\core\\_methods.py:49: RuntimeWarning: overflow encountered in reduce\n",
      "  return umr_sum(a, axis, dtype, out, keepdims, initial, where)\n",
      "C:\\Users\\mrjar\\AppData\\Local\\Temp\\ipykernel_16124\\1204144490.py:17: RuntimeWarning: overflow encountered in square\n",
      "  cost = (errors**2).sum() / 2.0\n",
      "C:\\Users\\mrjar\\AppData\\Local\\Temp\\ipykernel_16124\\1204144490.py:15: RuntimeWarning: invalid value encountered in add\n",
      "  self.w_[1:] += self.learning_rate * X.T.dot(errors)\n",
      "C:\\Users\\mrjar\\AppData\\Local\\Temp\\ipykernel_16124\\1204144490.py:17: RuntimeWarning: overflow encountered in square\n",
      "  cost = (errors**2).sum() / 2.0\n",
      "C:\\Users\\mrjar\\AppData\\Local\\Temp\\ipykernel_16124\\1204144490.py:15: RuntimeWarning: invalid value encountered in add\n",
      "  self.w_[1:] += self.learning_rate * X.T.dot(errors)\n",
      "C:\\Users\\mrjar\\AppData\\Local\\Temp\\ipykernel_16124\\1204144490.py:17: RuntimeWarning: overflow encountered in square\n",
      "  cost = (errors**2).sum() / 2.0\n",
      "C:\\Users\\mrjar\\AppData\\Local\\Temp\\ipykernel_16124\\1204144490.py:15: RuntimeWarning: invalid value encountered in add\n",
      "  self.w_[1:] += self.learning_rate * X.T.dot(errors)\n",
      "C:\\ProgramData\\anaconda3\\Lib\\site-packages\\numpy\\core\\_methods.py:49: RuntimeWarning: overflow encountered in reduce\n",
      "  return umr_sum(a, axis, dtype, out, keepdims, initial, where)\n",
      "C:\\Users\\mrjar\\AppData\\Local\\Temp\\ipykernel_16124\\1204144490.py:17: RuntimeWarning: overflow encountered in square\n",
      "  cost = (errors**2).sum() / 2.0\n",
      "C:\\Users\\mrjar\\AppData\\Local\\Temp\\ipykernel_16124\\1204144490.py:15: RuntimeWarning: invalid value encountered in add\n",
      "  self.w_[1:] += self.learning_rate * X.T.dot(errors)\n",
      "C:\\Users\\mrjar\\AppData\\Local\\Temp\\ipykernel_16124\\1204144490.py:16: RuntimeWarning: invalid value encountered in scalar add\n",
      "  self.w_[0] += self.learning_rate * errors.sum()\n",
      "C:\\ProgramData\\anaconda3\\Lib\\site-packages\\numpy\\core\\_methods.py:49: RuntimeWarning: overflow encountered in reduce\n",
      "  return umr_sum(a, axis, dtype, out, keepdims, initial, where)\n",
      "C:\\Users\\mrjar\\AppData\\Local\\Temp\\ipykernel_16124\\1204144490.py:17: RuntimeWarning: overflow encountered in square\n",
      "  cost = (errors**2).sum() / 2.0\n",
      "C:\\Users\\mrjar\\AppData\\Local\\Temp\\ipykernel_16124\\1204144490.py:15: RuntimeWarning: invalid value encountered in add\n",
      "  self.w_[1:] += self.learning_rate * X.T.dot(errors)\n",
      "C:\\Users\\mrjar\\AppData\\Local\\Temp\\ipykernel_16124\\1204144490.py:16: RuntimeWarning: invalid value encountered in scalar add\n",
      "  self.w_[0] += self.learning_rate * errors.sum()\n",
      "C:\\ProgramData\\anaconda3\\Lib\\site-packages\\numpy\\core\\_methods.py:49: RuntimeWarning: overflow encountered in reduce\n",
      "  return umr_sum(a, axis, dtype, out, keepdims, initial, where)\n",
      "C:\\Users\\mrjar\\AppData\\Local\\Temp\\ipykernel_16124\\1204144490.py:17: RuntimeWarning: overflow encountered in square\n",
      "  cost = (errors**2).sum() / 2.0\n",
      "C:\\Users\\mrjar\\AppData\\Local\\Temp\\ipykernel_16124\\1204144490.py:15: RuntimeWarning: invalid value encountered in add\n",
      "  self.w_[1:] += self.learning_rate * X.T.dot(errors)\n",
      "C:\\Users\\mrjar\\AppData\\Local\\Temp\\ipykernel_16124\\1204144490.py:16: RuntimeWarning: invalid value encountered in scalar add\n",
      "  self.w_[0] += self.learning_rate * errors.sum()\n",
      "C:\\Users\\mrjar\\AppData\\Local\\Temp\\ipykernel_16124\\1204144490.py:17: RuntimeWarning: overflow encountered in square\n",
      "  cost = (errors**2).sum() / 2.0\n",
      "C:\\ProgramData\\anaconda3\\Lib\\site-packages\\numpy\\core\\_methods.py:49: RuntimeWarning: overflow encountered in reduce\n",
      "  return umr_sum(a, axis, dtype, out, keepdims, initial, where)\n",
      "C:\\Users\\mrjar\\AppData\\Local\\Temp\\ipykernel_16124\\1204144490.py:15: RuntimeWarning: invalid value encountered in add\n",
      "  self.w_[1:] += self.learning_rate * X.T.dot(errors)\n",
      "C:\\Users\\mrjar\\AppData\\Local\\Temp\\ipykernel_16124\\1204144490.py:16: RuntimeWarning: invalid value encountered in scalar add\n",
      "  self.w_[0] += self.learning_rate * errors.sum()\n",
      "C:\\Users\\mrjar\\AppData\\Local\\Temp\\ipykernel_16124\\1204144490.py:17: RuntimeWarning: overflow encountered in square\n",
      "  cost = (errors**2).sum() / 2.0\n",
      "C:\\Users\\mrjar\\AppData\\Local\\Temp\\ipykernel_16124\\1204144490.py:15: RuntimeWarning: invalid value encountered in add\n",
      "  self.w_[1:] += self.learning_rate * X.T.dot(errors)\n",
      "C:\\ProgramData\\anaconda3\\Lib\\site-packages\\numpy\\core\\_methods.py:49: RuntimeWarning: overflow encountered in reduce\n",
      "  return umr_sum(a, axis, dtype, out, keepdims, initial, where)\n",
      "C:\\Users\\mrjar\\AppData\\Local\\Temp\\ipykernel_16124\\1204144490.py:17: RuntimeWarning: overflow encountered in square\n",
      "  cost = (errors**2).sum() / 2.0\n",
      "C:\\Users\\mrjar\\AppData\\Local\\Temp\\ipykernel_16124\\1204144490.py:15: RuntimeWarning: invalid value encountered in add\n",
      "  self.w_[1:] += self.learning_rate * X.T.dot(errors)\n"
     ]
    }
   ],
   "source": [
    "acc_adaline = []\n",
    "max_iters = [10, 20, 50, 75, 100, 250, 500, 1000, 10000]\n",
    "etas = [1, 0.9, 0.75, 0.5, 0.25, 0.1, 0.01, 0.001, 0.0001]\n",
    "for max_iter in max_iters:\n",
    "    for eta in etas:\n",
    "        clf_adaline = Adaline(learning_rate=eta, n_iterations=max_iter)\n",
    "        clf_adaline.fit(X_train, y_train)\n",
    "        y_pred_adaline = clf_perceptron.predict(X_test)\n",
    "        accuracy_adaline = accuracy_score(y_test, y_pred_perceptron)\n",
    "        acc_adaline.append(\n",
    "            {\n",
    "                \"eta\":eta,\n",
    "                \"max_iter\":max_iter,\n",
    "                \"accuracy\": accuracy_adaline\n",
    "            }\n",
    "        )"
   ]
  },
  {
   "cell_type": "markdown",
   "id": "3e6ecc1f",
   "metadata": {},
   "source": [
    "##### Heatmap"
   ]
  },
  {
   "cell_type": "code",
   "execution_count": 15,
   "id": "68267425",
   "metadata": {},
   "outputs": [
    {
     "name": "stdout",
     "output_type": "stream",
     "text": [
      "Mejor accuracy: 0.6\n",
      "Mejor iteraciones: 10\n",
      "Mejor eta: 1\n"
     ]
    },
    {
     "data": {
      "image/png": "[encoded data removed]",
      "text/plain": [
       "<Figure size 640x480 with 2 Axes>"
      ]
     },
     "metadata": {},
     "output_type": "display_data"
    }
   ],
   "source": [
    "data = np.zeros((len(max_iters), len(etas)))\n",
    "\n",
    "for p in acc_adaline:\n",
    "    i = max_iters.index(p[\"max_iter\"])\n",
    "    j = etas.index(p[\"eta\"])\n",
    "    data[i, j] = p[\"accuracy\"]\n",
    "    \n",
    "ax = sns.heatmap(data, annot=False, yticklabels=etas, xticklabels=max_iters, linewidth=0.5)\n",
    "ax.set_xlabel(\"max_iters\")\n",
    "ax.set_ylabel(\"eta\")\n",
    "\n",
    "best_acc = np.max(data)\n",
    "i1, i0 = unravel_index(data.argmax(), data.shape)\n",
    "print(f\"Mejor accuracy: {best_acc}\\nMejor iteraciones: {max_iters[i0]}\\nMejor eta: {etas[i1]}\")"
   ]
  },
  {
   "cell_type": "markdown",
   "id": "72f0edae",
   "metadata": {},
   "source": [
    "#### 3. Regresión Logística\n",
    "La Regresión Logística es un modelo de clasificación probabilístico"
   ]
  },
  {
   "cell_type": "code",
   "execution_count": 16,
   "id": "254f5c36",
   "metadata": {},
   "outputs": [],
   "source": [
    "from sklearn.linear_model import LogisticRegression"
   ]
  },
  {
   "cell_type": "code",
   "execution_count": 17,
   "id": "c7512022",
   "metadata": {},
   "outputs": [
    {
     "name": "stdout",
     "output_type": "stream",
     "text": [
      "CPU times: total: 0 ns\n",
      "Wall time: 18 ms\n"
     ]
    },
    {
     "data": {
      "text/html": [
       "<style>#sk-container-id-3 {color: black;}#sk-container-id-3 pre{padding: 0;}#sk-container-id-3 div.sk-toggleable {background-color: white;}#sk-container-id-3 label.sk-toggleable__label {cursor: pointer;display: block;width: 100%;margin-bottom: 0;padding: 0.3em;box-sizing: border-box;text-align: center;}#sk-container-id-3 label.sk-toggleable__label-arrow:before {content: \"▸\";float: left;margin-right: 0.25em;color: #696969;}#sk-container-id-3 label.sk-toggleable__label-arrow:hover:before {color: black;}#sk-container-id-3 div.sk-estimator:hover label.sk-toggleable__label-arrow:before {color: black;}#sk-container-id-3 div.sk-toggleable__content {max-height: 0;max-width: 0;overflow: hidden;text-align: left;background-color: #f0f8ff;}#sk-container-id-3 div.sk-toggleable__content pre {margin: 0.2em;color: black;border-radius: 0.25em;background-color: #f0f8ff;}#sk-container-id-3 input.sk-toggleable__control:checked~div.sk-toggleable__content {max-height: 200px;max-width: 100%;overflow: auto;}#sk-container-id-3 input.sk-toggleable__control:checked~label.sk-toggleable__label-arrow:before {content: \"▾\";}#sk-container-id-3 div.sk-estimator input.sk-toggleable__control:checked~label.sk-toggleable__label {background-color: #d4ebff;}#sk-container-id-3 div.sk-label input.sk-toggleable__control:checked~label.sk-toggleable__label {background-color: #d4ebff;}#sk-container-id-3 input.sk-hidden--visually {border: 0;clip: rect(1px 1px 1px 1px);clip: rect(1px, 1px, 1px, 1px);height: 1px;margin: -1px;overflow: hidden;padding: 0;position: absolute;width: 1px;}#sk-container-id-3 div.sk-estimator {font-family: monospace;background-color: #f0f8ff;border: 1px dotted black;border-radius: 0.25em;box-sizing: border-box;margin-bottom: 0.5em;}#sk-container-id-3 div.sk-estimator:hover {background-color: #d4ebff;}#sk-container-id-3 div.sk-parallel-item::after {content: \"\";width: 100%;border-bottom: 1px solid gray;flex-grow: 1;}#sk-container-id-3 div.sk-label:hover label.sk-toggleable__label {background-color: #d4ebff;}#sk-container-id-3 div.sk-serial::before {content: \"\";position: absolute;border-left: 1px solid gray;box-sizing: border-box;top: 0;bottom: 0;left: 50%;z-index: 0;}#sk-container-id-3 div.sk-serial {display: flex;flex-direction: column;align-items: center;background-color: white;padding-right: 0.2em;padding-left: 0.2em;position: relative;}#sk-container-id-3 div.sk-item {position: relative;z-index: 1;}#sk-container-id-3 div.sk-parallel {display: flex;align-items: stretch;justify-content: center;background-color: white;position: relative;}#sk-container-id-3 div.sk-item::before, #sk-container-id-3 div.sk-parallel-item::before {content: \"\";position: absolute;border-left: 1px solid gray;box-sizing: border-box;top: 0;bottom: 0;left: 50%;z-index: -1;}#sk-container-id-3 div.sk-parallel-item {display: flex;flex-direction: column;z-index: 1;position: relative;background-color: white;}#sk-container-id-3 div.sk-parallel-item:first-child::after {align-self: flex-end;width: 50%;}#sk-container-id-3 div.sk-parallel-item:last-child::after {align-self: flex-start;width: 50%;}#sk-container-id-3 div.sk-parallel-item:only-child::after {width: 0;}#sk-container-id-3 div.sk-dashed-wrapped {border: 1px dashed gray;margin: 0 0.4em 0.5em 0.4em;box-sizing: border-box;padding-bottom: 0.4em;background-color: white;}#sk-container-id-3 div.sk-label label {font-family: monospace;font-weight: bold;display: inline-block;line-height: 1.2em;}#sk-container-id-3 div.sk-label-container {text-align: center;}#sk-container-id-3 div.sk-container {/* jupyter's `normalize.less` sets `[hidden] { display: none; }` but bootstrap.min.css set `[hidden] { display: none !important; }` so we also need the `!important` here to be able to override the default hidden behavior on the sphinx rendered scikit-learn.org. See: https://github.com/scikit-learn/scikit-learn/issues/21755 */display: inline-block !important;position: relative;}#sk-container-id-3 div.sk-text-repr-fallback {display: none;}</style><div id=\"sk-container-id-3\" class=\"sk-top-container\"><div class=\"sk-text-repr-fallback\"><pre>LogisticRegression(random_state=42)</pre><b>In a Jupyter environment, please rerun this cell to show the HTML representation or trust the notebook. <br />On GitHub, the HTML representation is unable to render, please try loading this page with nbviewer.org.</b></div><div class=\"sk-container\" hidden><div class=\"sk-item\"><div class=\"sk-estimator sk-toggleable\"><input class=\"sk-toggleable__control sk-hidden--visually\" id=\"sk-estimator-id-3\" type=\"checkbox\" checked><label for=\"sk-estimator-id-3\" class=\"sk-toggleable__label sk-toggleable__label-arrow\">LogisticRegression</label><div class=\"sk-toggleable__content\"><pre>LogisticRegression(random_state=42)</pre></div></div></div></div></div>"
      ],
      "text/plain": [
       "LogisticRegression(random_state=42)"
      ]
     },
     "execution_count": 17,
     "metadata": {},
     "output_type": "execute_result"
    }
   ],
   "source": [
    "%%time\n",
    "clf_logit = LogisticRegression(max_iter=100, random_state=42)\n",
    "clf_logit.fit(X_train, y_train)"
   ]
  },
  {
   "cell_type": "code",
   "execution_count": 18,
   "id": "ef677cb3",
   "metadata": {},
   "outputs": [
    {
     "name": "stdout",
     "output_type": "stream",
     "text": [
      "CPU times: total: 0 ns\n",
      "Wall time: 973 µs\n"
     ]
    }
   ],
   "source": [
    "%%time\n",
    "y_pred_logit = clf_logit.predict(X_test)"
   ]
  },
  {
   "cell_type": "code",
   "execution_count": 19,
   "id": "213e4020",
   "metadata": {},
   "outputs": [
    {
     "name": "stdout",
     "output_type": "stream",
     "text": [
      "Precisión de Regresión Logística: 1.00\n",
      "CPU times: total: 0 ns\n",
      "Wall time: 998 µs\n"
     ]
    }
   ],
   "source": [
    "%%time\n",
    "accuracy_logit = accuracy_score(y_test, y_pred_logit)\n",
    "print(f\"Precisión de Regresión Logística: {accuracy_logit:.2f}\")"
   ]
  },
  {
   "cell_type": "markdown",
   "id": "c95cd747",
   "metadata": {},
   "source": [
    "#### 4. Árbol de Decisión"
   ]
  },
  {
   "cell_type": "code",
   "execution_count": 20,
   "id": "8a37f942",
   "metadata": {},
   "outputs": [],
   "source": [
    "from sklearn.tree import DecisionTreeClassifier"
   ]
  },
  {
   "cell_type": "code",
   "execution_count": 21,
   "id": "88b963c6",
   "metadata": {},
   "outputs": [
    {
     "name": "stdout",
     "output_type": "stream",
     "text": [
      "CPU times: total: 0 ns\n",
      "Wall time: 999 µs\n"
     ]
    },
    {
     "data": {
      "text/html": [
       "<style>#sk-container-id-4 {color: black;}#sk-container-id-4 pre{padding: 0;}#sk-container-id-4 div.sk-toggleable {background-color: white;}#sk-container-id-4 label.sk-toggleable__label {cursor: pointer;display: block;width: 100%;margin-bottom: 0;padding: 0.3em;box-sizing: border-box;text-align: center;}#sk-container-id-4 label.sk-toggleable__label-arrow:before {content: \"▸\";float: left;margin-right: 0.25em;color: #696969;}#sk-container-id-4 label.sk-toggleable__label-arrow:hover:before {color: black;}#sk-container-id-4 div.sk-estimator:hover label.sk-toggleable__label-arrow:before {color: black;}#sk-container-id-4 div.sk-toggleable__content {max-height: 0;max-width: 0;overflow: hidden;text-align: left;background-color: #f0f8ff;}#sk-container-id-4 div.sk-toggleable__content pre {margin: 0.2em;color: black;border-radius: 0.25em;background-color: #f0f8ff;}#sk-container-id-4 input.sk-toggleable__control:checked~div.sk-toggleable__content {max-height: 200px;max-width: 100%;overflow: auto;}#sk-container-id-4 input.sk-toggleable__control:checked~label.sk-toggleable__label-arrow:before {content: \"▾\";}#sk-container-id-4 div.sk-estimator input.sk-toggleable__control:checked~label.sk-toggleable__label {background-color: #d4ebff;}#sk-container-id-4 div.sk-label input.sk-toggleable__control:checked~label.sk-toggleable__label {background-color: #d4ebff;}#sk-container-id-4 input.sk-hidden--visually {border: 0;clip: rect(1px 1px 1px 1px);clip: rect(1px, 1px, 1px, 1px);height: 1px;margin: -1px;overflow: hidden;padding: 0;position: absolute;width: 1px;}#sk-container-id-4 div.sk-estimator {font-family: monospace;background-color: #f0f8ff;border: 1px dotted black;border-radius: 0.25em;box-sizing: border-box;margin-bottom: 0.5em;}#sk-container-id-4 div.sk-estimator:hover {background-color: #d4ebff;}#sk-container-id-4 div.sk-parallel-item::after {content: \"\";width: 100%;border-bottom: 1px solid gray;flex-grow: 1;}#sk-container-id-4 div.sk-label:hover label.sk-toggleable__label {background-color: #d4ebff;}#sk-container-id-4 div.sk-serial::before {content: \"\";position: absolute;border-left: 1px solid gray;box-sizing: border-box;top: 0;bottom: 0;left: 50%;z-index: 0;}#sk-container-id-4 div.sk-serial {display: flex;flex-direction: column;align-items: center;background-color: white;padding-right: 0.2em;padding-left: 0.2em;position: relative;}#sk-container-id-4 div.sk-item {position: relative;z-index: 1;}#sk-container-id-4 div.sk-parallel {display: flex;align-items: stretch;justify-content: center;background-color: white;position: relative;}#sk-container-id-4 div.sk-item::before, #sk-container-id-4 div.sk-parallel-item::before {content: \"\";position: absolute;border-left: 1px solid gray;box-sizing: border-box;top: 0;bottom: 0;left: 50%;z-index: -1;}#sk-container-id-4 div.sk-parallel-item {display: flex;flex-direction: column;z-index: 1;position: relative;background-color: white;}#sk-container-id-4 div.sk-parallel-item:first-child::after {align-self: flex-end;width: 50%;}#sk-container-id-4 div.sk-parallel-item:last-child::after {align-self: flex-start;width: 50%;}#sk-container-id-4 div.sk-parallel-item:only-child::after {width: 0;}#sk-container-id-4 div.sk-dashed-wrapped {border: 1px dashed gray;margin: 0 0.4em 0.5em 0.4em;box-sizing: border-box;padding-bottom: 0.4em;background-color: white;}#sk-container-id-4 div.sk-label label {font-family: monospace;font-weight: bold;display: inline-block;line-height: 1.2em;}#sk-container-id-4 div.sk-label-container {text-align: center;}#sk-container-id-4 div.sk-container {/* jupyter's `normalize.less` sets `[hidden] { display: none; }` but bootstrap.min.css set `[hidden] { display: none !important; }` so we also need the `!important` here to be able to override the default hidden behavior on the sphinx rendered scikit-learn.org. See: https://github.com/scikit-learn/scikit-learn/issues/21755 */display: inline-block !important;position: relative;}#sk-container-id-4 div.sk-text-repr-fallback {display: none;}</style><div id=\"sk-container-id-4\" class=\"sk-top-container\"><div class=\"sk-text-repr-fallback\"><pre>DecisionTreeClassifier(max_depth=3, random_state=42)</pre><b>In a Jupyter environment, please rerun this cell to show the HTML representation or trust the notebook. <br />On GitHub, the HTML representation is unable to render, please try loading this page with nbviewer.org.</b></div><div class=\"sk-container\" hidden><div class=\"sk-item\"><div class=\"sk-estimator sk-toggleable\"><input class=\"sk-toggleable__control sk-hidden--visually\" id=\"sk-estimator-id-4\" type=\"checkbox\" checked><label for=\"sk-estimator-id-4\" class=\"sk-toggleable__label sk-toggleable__label-arrow\">DecisionTreeClassifier</label><div class=\"sk-toggleable__content\"><pre>DecisionTreeClassifier(max_depth=3, random_state=42)</pre></div></div></div></div></div>"
      ],
      "text/plain": [
       "DecisionTreeClassifier(max_depth=3, random_state=42)"
      ]
     },
     "execution_count": 21,
     "metadata": {},
     "output_type": "execute_result"
    }
   ],
   "source": [
    "%%time\n",
    "clf_tree = DecisionTreeClassifier(max_depth=3, random_state=42)\n",
    "clf_tree.fit(X_train, y_train)"
   ]
  },
  {
   "cell_type": "code",
   "execution_count": 22,
   "id": "3904dea3",
   "metadata": {},
   "outputs": [
    {
     "name": "stdout",
     "output_type": "stream",
     "text": [
      "CPU times: total: 0 ns\n",
      "Wall time: 0 ns\n"
     ]
    }
   ],
   "source": [
    "%%time\n",
    "y_pred_tree = clf_tree.predict(X_test)"
   ]
  },
  {
   "cell_type": "code",
   "execution_count": 23,
   "id": "eb0cca90",
   "metadata": {},
   "outputs": [
    {
     "name": "stdout",
     "output_type": "stream",
     "text": [
      "Precisión del Árbol de Decisión: 1.00\n",
      "CPU times: total: 0 ns\n",
      "Wall time: 1 ms\n"
     ]
    }
   ],
   "source": [
    "%%time\n",
    "accuracy_tree = accuracy_score(y_test, y_pred_tree)\n",
    "print(f\"Precisión del Árbol de Decisión: {accuracy_tree:.2f}\")"
   ]
  }
 ],
 "metadata": {
  "kernelspec": {
   "display_name": "Python 3 (ipykernel)",
   "language": "python",
   "name": "python3"
  },
  "language_info": {
   "codemirror_mode": {
    "name": "ipython",
    "version": 3
   },
   "file_extension": ".py",
   "mimetype": "text/x-python",
   "name": "python",
   "nbconvert_exporter": "python",
   "pygments_lexer": "ipython3",
   "version": "3.11.5"
  }
 },
 "nbformat": 4,
 "nbformat_minor": 5
}
